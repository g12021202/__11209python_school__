{
 "cells": [
  {
   "cell_type": "markdown",
   "metadata": {},
   "source": [
    "# HomeWork:高血壓\n",
    "\n",
    "| 分類 (2017 ACC/AHA/AAPA/...) | 收縮壓 (mmHg) | 關係 | 舒張壓 (mmHg) |\n",
    "| :---:  | :---: | :---: | :---: |\n",
    "| 正常 | <120 | 且 | <80 |\n",
    "| 血壓升高 | 120－129 | 且 | <80 |\n",
    "| 高血壓第一期 | 130－139 | 且 | 8－890 |\n",
    "| 高血壓第二期 | ≥140 | 且 | ≥90 |\n",
    "| 單純收縮期<br>高血壓 | ≥130 | 且 | <80 |\n",
    "\n",
    "sbp = int(input(\"請輸入收縮壓\"))\\\n",
    "dbp = int(input(\"請輸入舒張壓\"))"
   ]
  },
  {
   "cell_type": "code",
   "execution_count": null,
   "metadata": {},
   "outputs": [],
   "source": [
    "sbp = int(input(\"請輸入收縮壓\"))\n",
    "dbp = int(input(\"請輸入舒張壓\"))\n",
    "\n",
    "if sbp < 120 and dbp < 80 :\n",
    "    print(\"正常\")\n",
    "elif 120 <= sbp <= 129 and dbp < 80 :\n",
    "    print(\"血壓升高\")\n",
    "elif 130 <= sbp <= 139 and 80 <= dbp <= 89 :\n",
    "    print(\"高血壓第一期\")\n",
    "elif sbp >= 140 and dbp >= 89 :\n",
    "    print(\"高血壓第二期\")\n",
    "elif sbp >= 130 and dbp < 80 :\n",
    "    print(\"單純收縮期高血壓\")\n",
    "else:\n",
    "    print(\"不存在\")"
   ]
  }
 ],
 "metadata": {
  "language_info": {
   "name": "python"
  },
  "orig_nbformat": 4
 },
 "nbformat": 4,
 "nbformat_minor": 2
}
