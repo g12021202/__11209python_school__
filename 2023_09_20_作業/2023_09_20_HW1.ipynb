{
 "cells": [
  {
   "cell_type": "markdown",
   "metadata": {},
   "source": [
    "# HomeWork:BMI 計算後分析\n",
    "- 請依據 BMI 值分析他人的身體狀況。\n",
    "\n",
    "|  BMI值  | < 18.5 | 18.5-25 | 25-30 | >30 |\n",
    "| :-----  | :----: | :----: | :----: | :----: |\n",
    "| 身體狀態 | 太輕 | 正常 | 過重 | 肥胖 | \n",
    "\n",
    "#bmi.py\n",
    "請輸入身高,單位為(公分):\n",
    "請輸入體重,單位為(公斤):\n",
    "\n",
    "您的BMI是25.53544\n",
    "｢您的體重肥胖｣"
   ]
  },
  {
   "cell_type": "code",
   "execution_count": null,
   "metadata": {},
   "outputs": [],
   "source": [
    "import pyinputplus as pyip\n",
    "height = pyip.inputInt(\"請輸入身高,單位為(公分):\")\n",
    "weight = pyip.inputInt(\"請輸入體重,單位為(公斤):\")\n",
    "\n",
    "BMI = weight / ((height/100)**2)\n",
    "print(f\"您的BMI是{BMI}\")\n",
    "if BMI < 18.5:\n",
    "    print(\"您的體重太輕\")\n",
    "elif BMI <= 25:\n",
    "    print(\"您的體重正常\")\n",
    "elif BMI <= 30:\n",
    "    print(\"您的體重過重\")\n",
    "else:\n",
    "    print(\"您的體重肥胖\")"
   ]
  }
 ],
 "metadata": {
  "kernelspec": {
   "display_name": ".venv",
   "language": "python",
   "name": "python3"
  },
  "language_info": {
   "codemirror_mode": {
    "name": "ipython",
    "version": 3
   },
   "file_extension": ".py",
   "mimetype": "text/x-python",
   "name": "python",
   "nbconvert_exporter": "python",
   "pygments_lexer": "ipython3",
   "version": "3.10.8"
  },
  "orig_nbformat": 4
 },
 "nbformat": 4,
 "nbformat_minor": 2
}
